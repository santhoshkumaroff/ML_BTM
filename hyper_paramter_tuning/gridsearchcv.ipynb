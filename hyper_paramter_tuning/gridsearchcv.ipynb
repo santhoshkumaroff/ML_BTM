{
 "cells": [
  {
   "cell_type": "code",
   "execution_count": null,
   "id": "b564edd7",
   "metadata": {},
   "outputs": [],
   "source": [
    "from sklearn.model_selection import GridSearchCV\n",
    "\n",
    "gr"
   ]
  }
 ],
 "metadata": {
  "language_info": {
   "name": "python"
  }
 },
 "nbformat": 4,
 "nbformat_minor": 5
}
