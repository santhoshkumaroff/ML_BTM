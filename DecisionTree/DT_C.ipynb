{
 "cells": [
  {
   "cell_type": "code",
   "execution_count": null,
   "id": "debb17ba",
   "metadata": {},
   "outputs": [],
   "source": [
    "\n",
    "from sklearn.tree import DecisionTreeClassifier\n",
    "\n",
    "model = DecisionTreeClassifier()\n",
    "#try this after fit()\n",
    "\n",
    "model.get_depth()\n",
    "\n"
   ]
  }
 ],
 "metadata": {
  "language_info": {
   "name": "python"
  }
 },
 "nbformat": 4,
 "nbformat_minor": 5
}
