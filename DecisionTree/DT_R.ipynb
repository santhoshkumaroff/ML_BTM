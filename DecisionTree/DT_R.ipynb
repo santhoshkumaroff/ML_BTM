{
 "cells": [
  {
   "cell_type": "code",
   "execution_count": null,
   "id": "ca6529d8",
   "metadata": {},
   "outputs": [],
   "source": [
    "from sklearn.tree import DecisionTreeRegressor"
   ]
  }
 ],
 "metadata": {
  "language_info": {
   "name": "python"
  }
 },
 "nbformat": 4,
 "nbformat_minor": 5
}
