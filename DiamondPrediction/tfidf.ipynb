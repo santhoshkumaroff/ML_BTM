{
 "cells": [
  {
   "cell_type": "code",
   "execution_count": 5,
   "id": "2f515b6d",
   "metadata": {},
   "outputs": [
    {
     "name": "stdout",
     "output_type": "stream",
     "text": [
      "   amazing    deep      is  learning    love  machine\n",
      "0   0.0000  0.0000  0.0000       1.0  1.2877   1.6931\n",
      "1   0.0000  1.2877  0.0000       1.0  1.2877   0.0000\n",
      "2   1.6931  1.2877  1.6931       1.0  0.0000   0.0000\n"
     ]
    }
   ],
   "source": [
    "from sklearn.feature_extraction.text import TfidfVectorizer\n",
    "import pandas as pd\n",
    "\n",
    "docs = [\n",
    "    \"I love machine learning\",\n",
    "    \"I love deep learning\",\n",
    "    \"deep learning is amazing\"\n",
    "]\n",
    "\n",
    "# no normalization\n",
    "tfidf = TfidfVectorizer(norm=None)\n",
    "X = tfidf.fit_transform(docs)\n",
    "\n",
    "df = pd.DataFrame(X.toarray(), columns=tfidf.get_feature_names_out())\n",
    "print(df.round(4))\n"
   ]
  }
 ],
 "metadata": {
  "kernelspec": {
   "display_name": "Python 3",
   "language": "python",
   "name": "python3"
  },
  "language_info": {
   "codemirror_mode": {
    "name": "ipython",
    "version": 3
   },
   "file_extension": ".py",
   "mimetype": "text/x-python",
   "name": "python",
   "nbconvert_exporter": "python",
   "pygments_lexer": "ipython3",
   "version": "3.13.3"
  }
 },
 "nbformat": 4,
 "nbformat_minor": 5
}
