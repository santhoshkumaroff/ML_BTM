{
 "cells": [
  {
   "cell_type": "code",
   "execution_count": 2,
   "id": "e437d7b6",
   "metadata": {},
   "outputs": [],
   "source": [
    "#from sklearn.data"
   ]
  },
  {
   "cell_type": "code",
   "execution_count": 3,
   "id": "0de192cb",
   "metadata": {},
   "outputs": [
    {
     "name": "stdout",
     "output_type": "stream",
     "text": [
      "Train Score : 1.0\n",
      "Test Score : 0.622075845135081\n",
      "MSE : 0.495235205629094\n"
     ]
    }
   ],
   "source": [
    "from sklearn.datasets import fetch_california_housing\n",
    "from sklearn.tree import DecisionTreeRegressor\n",
    "from sklearn.ensemble import RandomForestRegressor\n",
    "from sklearn.model_selection import train_test_split\n",
    "from sklearn.metrics import mean_squared_error\n",
    "\n",
    "data = fetch_california_housing(as_frame=True)\n",
    "\n",
    "# data.frame\n",
    "X = data.data\n",
    "y = data.target\n",
    "\n",
    "xtrain,xtest,ytrain,ytest = train_test_split(X,y,random_state=42,train_size=0.8)\n",
    "\n",
    "model = DecisionTreeRegressor(random_state=42)\n",
    "\n",
    "\n",
    "model.fit(xtrain,ytrain)\n",
    "\n",
    "train_score = model.score(xtrain,ytrain)\n",
    "test_score = model.score(xtest,ytest)\n",
    "\n",
    "print(f\"Train Score : {train_score}\")\n",
    "print(f\"Test Score : {test_score}\")\n",
    "\n",
    "ypred = model.predict(xtest)\n",
    "\n",
    "mse = mean_squared_error(ytest,ypred)\n",
    "print(f\"MSE : {mse}\")\n"
   ]
  },
  {
   "cell_type": "code",
   "execution_count": 4,
   "id": "0f934133",
   "metadata": {},
   "outputs": [
    {
     "name": "stdout",
     "output_type": "stream",
     "text": [
      "Train Score : 0.9735726320302575\n",
      "Test Score : 0.8051230593157366\n",
      "MSE : 0.2553684927247781\n"
     ]
    }
   ],
   "source": [
    "model = RandomForestRegressor(random_state=42,oob_score=True)\n",
    "\n",
    "model.fit(xtrain,ytrain)\n",
    "\n",
    "train_score = model.score(xtrain,ytrain)\n",
    "test_score = model.score(xtest,ytest)\n",
    "\n",
    "print(f\"Train Score : {train_score}\")\n",
    "print(f\"Test Score : {test_score}\")\n",
    "\n",
    "ypred = model.predict(xtest)\n",
    "\n",
    "mse = mean_squared_error(ytest,ypred)\n",
    "print(f\"MSE : {mse}\")"
   ]
  },
  {
   "cell_type": "code",
   "execution_count": 9,
   "id": "24c7f04f",
   "metadata": {},
   "outputs": [
    {
     "data": {
      "text/plain": [
       "0.8074158009726365"
      ]
     },
     "execution_count": 9,
     "metadata": {},
     "output_type": "execute_result"
    }
   ],
   "source": [
    "model.oob_score_"
   ]
  },
  {
   "cell_type": "code",
   "execution_count": null,
   "id": "0124d74b",
   "metadata": {},
   "outputs": [],
   "source": []
  }
 ],
 "metadata": {
  "kernelspec": {
   "display_name": "Python 3",
   "language": "python",
   "name": "python3"
  },
  "language_info": {
   "codemirror_mode": {
    "name": "ipython",
    "version": 3
   },
   "file_extension": ".py",
   "mimetype": "text/x-python",
   "name": "python",
   "nbconvert_exporter": "python",
   "pygments_lexer": "ipython3",
   "version": "3.13.3"
  }
 },
 "nbformat": 4,
 "nbformat_minor": 5
}
